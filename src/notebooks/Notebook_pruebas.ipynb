{
 "cells": [
  {
   "cell_type": "code",
   "execution_count": 47,
   "metadata": {},
   "outputs": [
    {
     "data": {
      "text/html": [
       "<div>\n",
       "<style scoped>\n",
       "    .dataframe tbody tr th:only-of-type {\n",
       "        vertical-align: middle;\n",
       "    }\n",
       "\n",
       "    .dataframe tbody tr th {\n",
       "        vertical-align: top;\n",
       "    }\n",
       "\n",
       "    .dataframe thead th {\n",
       "        text-align: right;\n",
       "    }\n",
       "</style>\n",
       "<table border=\"1\" class=\"dataframe\">\n",
       "  <thead>\n",
       "    <tr style=\"text-align: right;\">\n",
       "      <th></th>\n",
       "      <th>Price</th>\n",
       "      <th>Adj Close</th>\n",
       "      <th>Close</th>\n",
       "      <th>High</th>\n",
       "      <th>Low</th>\n",
       "      <th>Open</th>\n",
       "      <th>Volume</th>\n",
       "    </tr>\n",
       "  </thead>\n",
       "  <tbody>\n",
       "    <tr>\n",
       "      <th>0</th>\n",
       "      <td>Ticker</td>\n",
       "      <td>^GSPC</td>\n",
       "      <td>^GSPC</td>\n",
       "      <td>^GSPC</td>\n",
       "      <td>^GSPC</td>\n",
       "      <td>^GSPC</td>\n",
       "      <td>^GSPC</td>\n",
       "    </tr>\n",
       "    <tr>\n",
       "      <th>1</th>\n",
       "      <td>Date</td>\n",
       "      <td>NaN</td>\n",
       "      <td>NaN</td>\n",
       "      <td>NaN</td>\n",
       "      <td>NaN</td>\n",
       "      <td>NaN</td>\n",
       "      <td>NaN</td>\n",
       "    </tr>\n",
       "    <tr>\n",
       "      <th>2</th>\n",
       "      <td>2000-01-03</td>\n",
       "      <td>1455.219970703125</td>\n",
       "      <td>1455.219970703125</td>\n",
       "      <td>1478.0</td>\n",
       "      <td>1438.3599853515625</td>\n",
       "      <td>1469.25</td>\n",
       "      <td>931800000</td>\n",
       "    </tr>\n",
       "    <tr>\n",
       "      <th>3</th>\n",
       "      <td>2000-01-04</td>\n",
       "      <td>1399.4200439453125</td>\n",
       "      <td>1399.4200439453125</td>\n",
       "      <td>1455.219970703125</td>\n",
       "      <td>1397.4300537109375</td>\n",
       "      <td>1455.219970703125</td>\n",
       "      <td>1009000000</td>\n",
       "    </tr>\n",
       "    <tr>\n",
       "      <th>4</th>\n",
       "      <td>2000-01-05</td>\n",
       "      <td>1402.1099853515625</td>\n",
       "      <td>1402.1099853515625</td>\n",
       "      <td>1413.27001953125</td>\n",
       "      <td>1377.6800537109375</td>\n",
       "      <td>1399.4200439453125</td>\n",
       "      <td>1085500000</td>\n",
       "    </tr>\n",
       "  </tbody>\n",
       "</table>\n",
       "</div>"
      ],
      "text/plain": [
       "        Price           Adj Close               Close               High  \\\n",
       "0      Ticker               ^GSPC               ^GSPC              ^GSPC   \n",
       "1        Date                 NaN                 NaN                NaN   \n",
       "2  2000-01-03   1455.219970703125   1455.219970703125             1478.0   \n",
       "3  2000-01-04  1399.4200439453125  1399.4200439453125  1455.219970703125   \n",
       "4  2000-01-05  1402.1099853515625  1402.1099853515625   1413.27001953125   \n",
       "\n",
       "                  Low                Open      Volume  \n",
       "0               ^GSPC               ^GSPC       ^GSPC  \n",
       "1                 NaN                 NaN         NaN  \n",
       "2  1438.3599853515625             1469.25   931800000  \n",
       "3  1397.4300537109375   1455.219970703125  1009000000  \n",
       "4  1377.6800537109375  1399.4200439453125  1085500000  "
      ]
     },
     "execution_count": 47,
     "metadata": {},
     "output_type": "execute_result"
    }
   ],
   "source": [
    "import yfinance as yf\n",
    "import numpy as np\n",
    "import pandas as pd\n",
    "import matplotlib.pyplot as plt\n",
    "import seaborn as sns\n",
    "import matplotlib.dates as mdates\n",
    "\n",
    "# Cargar el archivo CSV para examinar su contenido\n",
    "file_path = \"C:\\\\Users\\\\DMIN\\\\Desktop\\\\GitHub\\\\EDA_SP500\\\\src\\\\data\\\\sp500_historico.csv\"\n",
    "sp500 = pd.read_csv(file_path)\n",
    "\n",
    "sp500.head()"
   ]
  },
  {
   "cell_type": "code",
   "execution_count": 48,
   "metadata": {},
   "outputs": [],
   "source": [
    "sp500.rename(columns={'Price': 'Date'},inplace=True)"
   ]
  },
  {
   "cell_type": "code",
   "execution_count": 49,
   "metadata": {},
   "outputs": [],
   "source": [
    "sp500.drop([0,1], inplace=True)"
   ]
  },
  {
   "cell_type": "code",
   "execution_count": 50,
   "metadata": {},
   "outputs": [],
   "source": [
    "sp500['Date'] = pd.to_datetime(sp500['Date'], format='%Y-%m-%d')"
   ]
  },
  {
   "cell_type": "code",
   "execution_count": 51,
   "metadata": {},
   "outputs": [
    {
     "name": "stdout",
     "output_type": "stream",
     "text": [
      "datetime64[ns]\n"
     ]
    }
   ],
   "source": [
    "print(sp500['Date'].dtype)"
   ]
  }
 ],
 "metadata": {
  "kernelspec": {
   "display_name": "Python 3",
   "language": "python",
   "name": "python3"
  },
  "language_info": {
   "codemirror_mode": {
    "name": "ipython",
    "version": 3
   },
   "file_extension": ".py",
   "mimetype": "text/x-python",
   "name": "python",
   "nbconvert_exporter": "python",
   "pygments_lexer": "ipython3",
   "version": "3.12.6"
  }
 },
 "nbformat": 4,
 "nbformat_minor": 2
}
